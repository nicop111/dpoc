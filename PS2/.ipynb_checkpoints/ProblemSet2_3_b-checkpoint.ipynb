{
 "cells": [
  {
   "cell_type": "markdown",
   "metadata": {},
   "source": [
    "# Dynamic Programming and Optimal Control\n",
    "## Problem Set 2, Problem 3.b"
   ]
  },
  {
   "cell_type": "code",
   "execution_count": 20,
   "metadata": {},
   "outputs": [],
   "source": [
    "import numpy as np\n",
    "import matplotlib.pyplot as plt\n",
    "from enum import Enum"
   ]
  },
  {
   "cell_type": "code",
   "execution_count": 71,
   "metadata": {},
   "outputs": [],
   "source": [
    "#States\n",
    "class State:\n",
    "    def __init__(self, player_points: int, opponent_points: int, serve: int):\n",
    "        self.player_points = player_points  # Attribut für die Marke des Autos\n",
    "        self.opponent_points = opponent_points  # Attribut für das Modell des Autos\n",
    "        self.serve = serve\n",
    "\n",
    "states = set()\n",
    "for player_points in range(0,4+1):\n",
    "    for opponent_points in range(0,4+1):\n",
    "        states.add(State(player_points, opponent_points, 1))\n",
    "        if player_points == 0 and \n",
    "        if not (p==4 or o==4):\n",
    "            states.add(State(player_points, opponent_points, 2))\n",
    "\n",
    "if State(0, 0, 1) in states:\n",
    "    print('XX')\n",
    "\n",
    "#Actions            \n",
    "class Serve(Enum):\n",
    "    FAST = 0\n",
    "    SLOW = 1\n",
    "\n",
    "# Landing probability\n",
    "pF = 0.8 # fast serve\n",
    "pS = 0.95  # slow serve\n",
    "# Winning probability\n",
    "qF = 0.6  # fast serve\n",
    "qS = 0.4  # slow serve"
   ]
  },
  {
   "cell_type": "code",
   "execution_count": 70,
   "metadata": {},
   "outputs": [
    {
     "name": "stdout",
     "output_type": "stream",
     "text": [
      "None\n"
     ]
    }
   ],
   "source": [
    "#Value iteration\n",
    "value: dict[State, int] = {}\n",
    "optimal_action: dict = {}\n",
    "\n",
    "for i in range(200):\n",
    "    for state_from in states:\n",
    "        max_value = -np.inf\n",
    "        for action in {Serve.FAST, Serve.SLOW}:\n",
    "            q = 0\n",
    "            p = 0\n",
    "            if action == Action.FAST:\n",
    "                p: float = pF\n",
    "                q: float  = qF\n",
    "            elif action == Action.SLOW:\n",
    "                p: float  = pS\n",
    "                q: float  = qS\n",
    "            action_value_sum = 0\n",
    "            for state_to in states:\n",
    "                instant_reward = 0\n",
    "                if state_to.player_points == 4 and state_from.player_points != 4:\n",
    "                    instant_reward = 1\n",
    "                trans_prob = 0\n",
    "                if state_from.player_points == 4 and state_to.player_points == 4 or (state_from.opponent_points == 4 and state_to.opponent_points == 4): #terminal state\n",
    "                    trans_prob = 1\n",
    "                elif not (state_from.player_points == 3 and state_from.opponent_points == 3) and state_to.player_points == state_from.player_points + 1 and (state_to.opponent_points == state_from.opponent_points) and state_to.serve == 1: #Win point\n",
    "                    trans_prob = p*q\n",
    "                elif state_from.player_points == 3 and state_from.opponent_points == 3 and state_to.player_points == 3 and state_to.opponent_points == 2 and state_to.serve == 1: #Win point at duce\n",
    "                    trans_prob = p*q\n",
    "                elif state_to.player_points == state_from.player_points and state_to.opponent_points == state_from.opponent_points and state_from.serve == 1 and state_to.serve == 2: #First serve in net\n",
    "                    trans_prob = 1-p\n",
    "                elif not (state_from.player_points == 3 and state_from.opponent_points == 3) and state_to.player_points == state_from.player_points and (state_to.opponent_points == state_from.opponent_points + 1) and state_from.serve == 1 and state_to.serve == 1: #Lose point at first serve\n",
    "                    trans_prob = p*(1-q)\n",
    "                elif state_to.player_points == 2 and state_to.opponent_points == 3 and state_from.player_points == 3 and state_from.opponent_points == 3 and state_from.serve == 1 and state_to.serve == 1: #Lose point at first serve at duce\n",
    "                    trans_prob = p*(1-q)\n",
    "                elif not (state_from.player_points == 3 and state_from.opponent_points == 3) and state_to.player_points == state_from.player_points and (state_to.opponent_points == state_from.opponent_points + 1) and state_from.serve == 2 and state_to.serve == 1: #Lose point at second serve\n",
    "                    trans_prob = 1-p*q\n",
    "                elif state_from.player_points == 3 and state_from.opponent_points == 3 and state_to.player_points == 2 and state_to.opponent_points == 3 and state_from.serve == 2 and state_to.serve == 1: #Lose point at second serve at duce\n",
    "                    trans_prob = 1-p*q\n",
    "                action_value_sum += trans_prob * (instant_reward + value.get(state_to, 0))\n",
    "            if action_value_sum > max_value:\n",
    "                max_value = action_value_sum\n",
    "                optimal_action[state_from] = action\n",
    "        value[state_from] = max_value\n",
    "            \n",
    "\n",
    "print(value.get(State(0, 0, 1)))"
   ]
  },
  {
   "cell_type": "code",
   "execution_count": null,
   "metadata": {},
   "outputs": [],
   "source": []
  },
  {
   "cell_type": "code",
   "execution_count": null,
   "metadata": {},
   "outputs": [],
   "source": []
  }
 ],
 "metadata": {
  "kernelspec": {
   "display_name": "Python 3 (ipykernel)",
   "language": "python",
   "name": "python3"
  },
  "language_info": {
   "codemirror_mode": {
    "name": "ipython",
    "version": 3
   },
   "file_extension": ".py",
   "mimetype": "text/x-python",
   "name": "python",
   "nbconvert_exporter": "python",
   "pygments_lexer": "ipython3",
   "version": "3.12.5"
  },
  "vscode": {
   "interpreter": {
    "hash": "cff752820ff3f6d3fa9162deadbdb76123777b3fbf2c04670d7e4bc2026a6053"
   }
  }
 },
 "nbformat": 4,
 "nbformat_minor": 4
}
