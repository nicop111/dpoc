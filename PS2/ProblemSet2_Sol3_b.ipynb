{
 "cells": [
  {
   "cell_type": "markdown",
   "metadata": {},
   "source": [
    "# Dynamic Programming and Optimal Control\n",
    "## Problem Set 2, Problem 3.b"
   ]
  },
  {
   "cell_type": "markdown",
   "metadata": {},
   "source": [
    "**Python script that solves Problem 3.b of Problem Set 2 by applying value iteration. Problem is taken from the book \"Dynamic Programming and Optimal Control\", Vol. 1, by D. Bertsekas. (Page 445, Problem 7.1b)** \n",
    "\n",
    "**We use [NumPy](https://numpy.org/) and [matplotlib](https://matplotlib.org/) packages. You can install these packages using `pip install` or `conda install` command depending on your package manager. You can also find the installation guide in the package websites or documentations.**"
   ]
  },
  {
   "cell_type": "code",
   "execution_count": null,
   "metadata": {},
   "outputs": [],
   "source": [
    "import numpy as np\n",
    "import matplotlib.pyplot as plt"
   ]
  },
  {
   "cell_type": "markdown",
   "metadata": {},
   "source": [
    "### Parameters"
   ]
  },
  {
   "cell_type": "code",
   "execution_count": null,
   "metadata": {},
   "outputs": [],
   "source": [
    "# Landing probability information\n",
    "p = np.ndarray(2)\n",
    "\n",
    "# Winning probability information\n",
    "q = np.ndarray(2)\n",
    "\n",
    "# Landing probability\n",
    "p[1] = 0.95  # slow serve\n",
    "\n",
    "# Winning probability\n",
    "q[0] = 0.6  # fast serve\n",
    "q[1] = 0.4  # slow serve\n",
    "\n",
    "# Define value iteration error bound\n",
    "err = 1e-100\n",
    "\n",
    "# Define vector of incremental values for p[0]\n",
    "p_incr_vec = np.linspace(0, 1, 21)\n",
    "\n",
    "prob_win_vec = np.zeros(p_incr_vec.shape)"
   ]
  },
  {
   "cell_type": "markdown",
   "metadata": {},
   "source": [
    "### Value Iteration"
   ]
  },
  {
   "cell_type": "code",
   "execution_count": null,
   "metadata": {},
   "outputs": [],
   "source": [
    "for p_incr in p_incr_vec:\n",
    "    # PARAMETERS\n",
    "    # Landing probability\n",
    "    p[0] = p_incr\n",
    "\n",
    "    # INITIALIZE PROBLEM\n",
    "    # Our state space is S = {0,1,2,3}x{0,1,2,3}x{1,2}\n",
    "    # i.e. x_k = [score player 1, score player 2, serve]\n",
    "\n",
    "    # Initialize costs to 1\n",
    "    # (although any value would do)\n",
    "    J = np.ones([4, 4, 2])\n",
    "\n",
    "    # Initialize the optimal control policy\n",
    "    # 0 represents Fast serve, 1 represents Slow serve\n",
    "    FVal = np.zeros([4, 4, 2])\n",
    "\n",
    "    # Initialize cost-to-go\n",
    "    cost_to_go = np.zeros([4, 4, 2])\n",
    "\n",
    "    # Iterate until cost has converged\n",
    "    iter = 0\n",
    "\n",
    "    while 1:\n",
    "        # Increase counter\n",
    "        iter = iter + 1\n",
    "\n",
    "        # Update the value\n",
    "        for i in range(3):\n",
    "            cost_to_go[3, i, 0] = np.max(\n",
    "                q * p + (1 - q) * p * J[3, i + 1, 0] + (1 - p) * J[3, i, 1]\n",
    "            )\n",
    "            FVal[3, i, 0] = np.argmax(\n",
    "                q * p + (1 - q) * p * J[3, i + 1, 0] + (1 - p) * J[3, i, 1]\n",
    "            )\n",
    "            cost_to_go[3, i, 1] = np.max(q * p + (1 - q * p) * J[3, i + 1, 0])\n",
    "            FVal[3, i, 1] = np.argmax(q * p + (1 - q * p) * J[3, i + 1, 0])\n",
    "            cost_to_go[i, 3, 0] = np.max(q * p * J[i + 1, 3, 0] + (1 - p) * J[i, 3, 1])\n",
    "            FVal[i, 3, 0] = np.argmax(q * p * J[i + 1, 3, 0] + (1 - p) * J[i, 3, 1])\n",
    "            cost_to_go[i, 3, 1] = np.max(q * p * J[i + 1, 3, 0])\n",
    "            FVal[i, 3, 1] = np.argmax(q * p * J[i + 1, 3, 0])\n",
    "            for j in range(3):\n",
    "                cost_to_go[i, j, 0] = np.amax(\n",
    "                    q * p * J[i + 1, j, 0]\n",
    "                    + (1 - q) * p * J[i, j + 1, 0]\n",
    "                    + (1 - p) * J[i, j, 1]\n",
    "                )\n",
    "                FVal[i, j, 0] = np.argmax(\n",
    "                    q * p * J[i + 1, j, 0]\n",
    "                    + (1 - q) * p * J[i, j + 1, 0]\n",
    "                    + (1 - p) * J[i, j, 1]\n",
    "                )\n",
    "                cost_to_go[i, j, 1] = np.amax(\n",
    "                    q * p * J[i + 1, j, 0] + (1 - q * p) * J[i, j + 1, 0]\n",
    "                )\n",
    "                FVal[i, j, 1] = np.argmax(\n",
    "                    q * p * J[i + 1, j, 0] + (1 - q * p) * J[i, j + 1, 0]\n",
    "                )\n",
    "        cost_to_go[3, 3, 0] = np.max(\n",
    "            q * p * J[3, 2, 0] + (1 - q) * p * J[2, 3, 0] + (1 - p) * J[3, 3, 1]\n",
    "        )\n",
    "        FVal[3, 3, 0] = np.argmax(\n",
    "            q * p * J[3, 2, 0] + (1 - q) * p * J[2, 3, 0] + (1 - p) * J[3, 3, 1]\n",
    "        )\n",
    "        cost_to_go[3, 3, 1] = np.max(q * p * J[3, 2, 0] + (1 - q * p) * J[2, 3, 0])\n",
    "        FVal[3, 3, 1] = np.argmax(q * p * J[3, 2, 0] + (1 - q * p) * J[2, 3, 0])\n",
    "\n",
    "        # Check if cost has converged\n",
    "        if np.max(np.abs(J - cost_to_go)) / np.max(np.abs(cost_to_go)) < err:\n",
    "            # Update cost and break\n",
    "            # PS: use np.copy() to assign value of cost_to_go to J,\n",
    "            # otherwise J will only be a reference of cost_to_go.\n",
    "            J = np.copy(cost_to_go)\n",
    "            break\n",
    "        else:\n",
    "            # Update cost\n",
    "            J = np.copy(cost_to_go)\n",
    "\n",
    "    # Probability of player 1 winning the game\n",
    "    prob_win_vec[p_incr == p_incr_vec] = J[0, 0, 0]\n",
    "\n",
    "    # Display\n",
    "    print(\n",
    "        \"Terminated after\",\n",
    "        iter,\n",
    "        \"iterations:\",\n",
    "        \" For p_F = \",\n",
    "        format(p_incr, \".2f\"),\n",
    "        \", probability of winning is\",\n",
    "        format(J[0, 0, 0], \".2f\"),\n",
    "    )"
   ]
  },
  {
   "cell_type": "markdown",
   "metadata": {},
   "source": [
    "### Plot results"
   ]
  },
  {
   "cell_type": "code",
   "execution_count": null,
   "metadata": {},
   "outputs": [],
   "source": [
    "plt.plot(p_incr_vec, prob_win_vec, linestyle=\"-\", marker=\"*\", color=\"b\")\n",
    "plt.title(\"Probability of the server winning a game\")\n",
    "plt.xlabel(\"p_F\")\n",
    "plt.ylabel(\"Probability of winning\")\n",
    "plt.show()"
   ]
  }
 ],
 "metadata": {
  "kernelspec": {
   "display_name": "Python 3 (ipykernel)",
   "language": "python",
   "name": "python3"
  },
  "language_info": {
   "codemirror_mode": {
    "name": "ipython",
    "version": 3
   },
   "file_extension": ".py",
   "mimetype": "text/x-python",
   "name": "python",
   "nbconvert_exporter": "python",
   "pygments_lexer": "ipython3",
   "version": "3.10.12"
  },
  "vscode": {
   "interpreter": {
    "hash": "cff752820ff3f6d3fa9162deadbdb76123777b3fbf2c04670d7e4bc2026a6053"
   }
  }
 },
 "nbformat": 4,
 "nbformat_minor": 2
}
