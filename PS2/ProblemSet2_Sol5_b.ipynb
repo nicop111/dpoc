{
 "cells": [
  {
   "cell_type": "markdown",
   "metadata": {},
   "source": [
    "# Dynamic Programming and Optimal Control\n",
    "## Problem Set 2, Problem 5.b"
   ]
  },
  {
   "cell_type": "markdown",
   "metadata": {},
   "source": [
    "**Python script that solves Problem 5.b of Problem Set 2 by applying linear programming.**\n",
    "\n",
    "**We use [NumPy](https://numpy.org/), [matplotlib](https://matplotlib.org/) and [SciPy](https://scipy.org/) packages. You can install these packages using `pip install` or `conda install` command depending on your package manager. You can also find the installation guide in the package websites or documentations.**"
   ]
  },
  {
   "cell_type": "code",
   "execution_count": null,
   "metadata": {},
   "outputs": [],
   "source": [
    "import numpy as np\n",
    "import matplotlib.pyplot as plt\n",
    "from scipy.optimize import linprog"
   ]
  },
  {
   "cell_type": "code",
   "execution_count": null,
   "metadata": {},
   "outputs": [],
   "source": [
    "def solve_crop_management(n):\n",
    "    # Define the coefficients for the objective function\n",
    "    # We use negative values since linprog tries to minimize, not maximize.\n",
    "    c = - np.ones(n)\n",
    "\n",
    "    # Define A and b for the inequalities\n",
    "    A = np.empty([2 * n, n])\n",
    "    b = np.empty(2 * n)\n",
    "\n",
    "    # Populate A and b based on the derived constraints\n",
    "    # For action W\n",
    "    A[:n, :] = np.eye(n) - np.diag([1 / (i + 3) for i in range(n - 1)], k=1)\n",
    "    A[n - 1, n - 1] -= 1 / (n + 2)\n",
    "    # For action H\n",
    "    A[n:, :] = np.eye(n)\n",
    "    A[n:, 0] -= 1\n",
    "\n",
    "    b = np.array([0 for i in range(n)] + [-(i**2) for i in range(n)])\n",
    "\n",
    "    # Solve the LP problem\n",
    "    result = linprog(c, A_ub=A, b_ub=b, method=\"highs\", bounds=[(None, None)])\n",
    "\n",
    "    # Extract the optimal value for each state\n",
    "    V_optimal = result.x\n",
    "\n",
    "    return V_optimal"
   ]
  },
  {
   "cell_type": "code",
   "execution_count": null,
   "metadata": {},
   "outputs": [],
   "source": [
    "print(solve_crop_management(2))"
   ]
  }
 ],
 "metadata": {
  "kernelspec": {
   "display_name": "Python 3 (ipykernel)",
   "language": "python",
   "name": "python3"
  },
  "language_info": {
   "codemirror_mode": {
    "name": "ipython",
    "version": 3
   },
   "file_extension": ".py",
   "mimetype": "text/x-python",
   "name": "python",
   "nbconvert_exporter": "python",
   "pygments_lexer": "ipython3",
   "version": "3.10.12"
  },
  "vscode": {
   "interpreter": {
    "hash": "cff752820ff3f6d3fa9162deadbdb76123777b3fbf2c04670d7e4bc2026a6053"
   }
  }
 },
 "nbformat": 4,
 "nbformat_minor": 2
}
