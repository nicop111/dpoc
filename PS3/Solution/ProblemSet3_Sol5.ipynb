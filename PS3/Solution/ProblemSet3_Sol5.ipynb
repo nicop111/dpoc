{
 "cells": [
  {
   "cell_type": "markdown",
   "metadata": {},
   "source": [
    "# Dynamic Programming and Optimal Control\n",
    "## Problem Set 3, Problem 5"
   ]
  },
  {
   "cell_type": "markdown",
   "metadata": {},
   "source": [
    "**Python script that solves Problem 5 of Problem Set 3 by applying applying the Label Correcting method and A* algorithm.** \n",
    "\n",
    "**We use [NumPy](https://numpy.org/) and [SciPy](https://scipy.org/) packages. You can install these packages using `pip install` or `conda install` command depending on your package manager. You can also find the installation guide in the package websites or documentations.**"
   ]
  },
  {
   "cell_type": "code",
   "execution_count": null,
   "metadata": {
    "id": "VuSEa79-5fbu"
   },
   "outputs": [],
   "source": [
    "import scipy.io\n",
    "import numpy as np\n",
    "import time"
   ]
  },
  {
   "cell_type": "markdown",
   "metadata": {
    "id": "CptTfpqy62YC"
   },
   "source": [
    "### Label correcting algorithm function"
   ]
  },
  {
   "cell_type": "code",
   "execution_count": null,
   "metadata": {
    "id": "VI1dXcKb68EZ"
   },
   "outputs": [],
   "source": [
    "def lca(A, start_node, terminal_node):\n",
    "    # Executes Label Correcting algorithm (Book Dynamic Programming and Optimal\n",
    "    # Control, Bertsekes, page 81) using the depth-first method.\n",
    "\n",
    "    # Input:\n",
    "    #   A               [NxN] matrix, where the element A(i,j) = a_ij is the cost\n",
    "    #                   to move from node i to j.\n",
    "    #   start_node      Start node of desired shortest path, scalar from 1 to N.\n",
    "    #   terminal_node   Terminal node of desired shortest path, scalar from 1\n",
    "    #                   to N.\n",
    "\n",
    "    # Output:\n",
    "    #   opt_cost        Cost of the shortest path(s), scalar:\n",
    "    #   opt_path        Row vector containing the shortest path, e.g.\n",
    "    #                   opt_path = [0 32 44 43 78 99].\n",
    "\n",
    "    N = len(A)  # Dimension of the problem: N = total number of nodes\n",
    "    d = np.ones(N) * np.inf  # Vector holding label d for each node. d(i) represents\n",
    "    # the shortest path found so far from start node to i.\n",
    "    d[start_node] = 0\n",
    "    parent = np.ones(N) * np.inf  # Vector containing the parent of the shortest path\n",
    "    # found so far for each node.\n",
    "    parent[start_node] = -1\n",
    "    OPEN = np.zeros(N)  # List cotaining all the nodes that are currently\n",
    "    # active in the sense that they are candidates for\n",
    "    # further examination (candidates list).\n",
    "    pointer_OPEN = 1  # Pointer which always points to the last element in OPEN.\n",
    "    OPEN[pointer_OPEN] = start_node\n",
    "    UPPER = np.inf  # Label dt, representing the shortest path to the end found so far.\n",
    "\n",
    "    # Check start and terminal node\n",
    "    # Make sure that the start and terminal node are valid.\n",
    "    if start_node == terminal_node:\n",
    "        opt_cost = 0\n",
    "        opt_path = [start_node, terminal_node]\n",
    "        return opt_cost, opt_path  # Done.\n",
    "\n",
    "    if (start_node >= N or terminal_node >= N) or (start_node < 0 or terminal_node < 0):\n",
    "        opt_cost = np.inf\n",
    "        opt_path = None\n",
    "        return opt_cost, opt_path  # Done.\n",
    "\n",
    "    # Execute algorithm\n",
    "    while 1:\n",
    "        # STEP 1: Remove a node i from OPEN and for each child j of i, execute STEP 2.\n",
    "        i = int(OPEN[pointer_OPEN])\n",
    "        OPEN[pointer_OPEN] = 0\n",
    "        pointer_OPEN = pointer_OPEN - 1\n",
    "\n",
    "        children = np.where(A[i, :] != np.inf)\n",
    "        children = children[0]\n",
    "        if i in children:\n",
    "            children = np.delete(children, np.where(children == i))\n",
    "\n",
    "        for j in children:\n",
    "            # STEP 2: If d_i + a_ij < min(d_j,UPPER), set d_j = d_i + a_ij and\n",
    "            # set i to be the parent of j.\n",
    "            if d[i] + A[i, j] < min([d[j], UPPER]):\n",
    "                d[j] = d[i] + A[i, j]\n",
    "\n",
    "                parent[j] = int(i)\n",
    "\n",
    "                # In addition, if j != t, place j in OPEN if it is not already\n",
    "                # in OPEN, while if j == t, set UPPER to the new value d_i +\n",
    "                # a_it of d_t\n",
    "                if j != terminal_node:\n",
    "                    if not (j in OPEN):\n",
    "                        pointer_OPEN += 1\n",
    "                        OPEN[pointer_OPEN] = j\n",
    "                else:\n",
    "                    UPPER = d[j]\n",
    "\n",
    "        # STEP 3: If OPEN is empty, terminate; else go to STEP 1.\n",
    "        if not pointer_OPEN:\n",
    "            break\n",
    "\n",
    "    # UPPER is equal to the cost of the shortest path.\n",
    "    opt_cost = UPPER\n",
    "\n",
    "    # Construct shortest path\n",
    "    # Start at terminal node and, for each node, take its parent node until we\n",
    "    # find ourselves at the start node.\n",
    "    opt_path = [terminal_node]\n",
    "    while opt_path[-1] != start_node:\n",
    "        opt_path.append(int(parent[int(opt_path[-1])]))\n",
    "    opt_path.reverse()  # Reverse path: start_node -> terminal_node\n",
    "    return opt_cost, opt_path"
   ]
  },
  {
   "cell_type": "markdown",
   "metadata": {
    "id": "6oNPL7mxv-Cs"
   },
   "source": [
    "### A* algorithm function"
   ]
  },
  {
   "cell_type": "code",
   "execution_count": null,
   "metadata": {
    "id": "yDmkDXRgwDA3"
   },
   "outputs": [],
   "source": [
    "def astar(A, start_node, terminal_node):\n",
    "    # [opt_cost, opt_path] = lca(A,start_node,terminal_node)\n",
    "\n",
    "    # Executes A* algorithm (Book Dynamic Programming and Optimal\n",
    "    # Control, Bertsekes, page 87) using the depth-first method.\n",
    "\n",
    "    # Input:\n",
    "    #   A               [NxN] matrix, where the element A(i,j) = a_ij is the cost\n",
    "    #                   to move from node i to j.\n",
    "    #   start_node       Start node of desired shortest path, scalar from 1 to N.\n",
    "    #   terminal_node    Terminal node of desired shortest path, scalar from 1\n",
    "    #                   to N.\n",
    "\n",
    "    # Output:\n",
    "    #   opt_cost         Cost of the shortest path(s), scalar:\n",
    "    #   opt_path         Row vector containing the shortest path, e.g.\n",
    "    #                   opt_path = [0 33 45 43 79 99].\n",
    "\n",
    "    # Initialization\n",
    "    N = len(A)  # Dimension of the problem: N = total number of nodes\n",
    "    d = np.ones(N) * np.inf  # Vector holding label d for each node. d(i) represents\n",
    "    # the shortest path found so far from start node to i.\n",
    "    d[start_node] = 0\n",
    "    parent = np.ones(N) * np.inf  # Vector containing the parent of the shortest path\n",
    "    # found so far for each node.\n",
    "    parent[start_node] = 0\n",
    "    OPEN = np.zeros(N)  # List cotaining all the nodes that are currently\n",
    "    # active in the sense that they are candidates for\n",
    "    # further examination (candidates list).\n",
    "    pointer_OPEN = 1  # Pointer which always points to the last element in OPEN.\n",
    "    OPEN[pointer_OPEN] = start_node\n",
    "    UPPER = np.inf  # Label dt, representing the shortest path to the end found so far.\n",
    "\n",
    "    # Check start and terminal node\n",
    "    # Make sure that the start and terminal node are valid.\n",
    "    if start_node == terminal_node:\n",
    "        opt_cost = 0\n",
    "        opt_path = [start_node, terminal_node]\n",
    "        return opt_cost, opt_path  # Done.\n",
    "\n",
    "    if (start_node >= N or terminal_node >= N) or (start_node < 0 or terminal_node < 0):\n",
    "        opt_cost = np.inf\n",
    "        opt_path = None\n",
    "        return opt_cost, opt_path  # Done.\n",
    "\n",
    "    # Execute algorithm\n",
    "    while 1:\n",
    "        # STEP 1: Remove a node i from OPEN and for each child j of i, execute STEP 2.\n",
    "        i = int(OPEN[pointer_OPEN])\n",
    "        OPEN[pointer_OPEN] = 0\n",
    "        pointer_OPEN = pointer_OPEN - 1\n",
    "\n",
    "        children = np.where(A[i, :] != np.inf)\n",
    "        children = children[0]\n",
    "        if i in children:\n",
    "            children = np.delete(children, np.where(children == i))\n",
    "\n",
    "        for j in children:\n",
    "            # STEP 2: If d_i + a_ij < and  d_i + a_ij + h_j < UPPER,\n",
    "            # set d_j = d_i + a_ij and set i to be the parent of j.\n",
    "            if (d[i] + A[i, j] < d[j] and \n",
    "                d[i] + A[i, j] + abs(j - terminal_node) < UPPER):\n",
    "                d[j] = d[i] + A[i, j]\n",
    "                parent[j] = i\n",
    "\n",
    "                # In addition, if j ~= t, place j in OPEN if it is not already\n",
    "                # in OPEN, while if j == t, set UPPER to the new value d_i +\n",
    "                # a_it of d_t\n",
    "                if j != terminal_node:\n",
    "                    if not (j in OPEN):\n",
    "                        pointer_OPEN += 1\n",
    "                        OPEN[pointer_OPEN] = j\n",
    "                else:\n",
    "                    UPPER = d[j]\n",
    "\n",
    "        #  STEP 3: If OPEN is empty, terminate; else go to STEP 1.\n",
    "        if not pointer_OPEN:\n",
    "            break\n",
    "\n",
    "    # DONE.\n",
    "    # UPPER is equal to the cost of the shortest path.\n",
    "    opt_cost = UPPER\n",
    "    # Construct shortest path\n",
    "    # Start at terminal node and, for each node, take its parent node until we\n",
    "    # find ourselves at the start node.\n",
    "    opt_path = [terminal_node]\n",
    "    while opt_path[-1] != start_node:\n",
    "        opt_path.append(int(parent[int(opt_path[-1])]))\n",
    "    opt_path.reverse()  # Reverse path: start_node -> terminal_node\n",
    "    return opt_cost, opt_path"
   ]
  },
  {
   "cell_type": "markdown",
   "metadata": {
    "id": "ejc-B_xh6Df7"
   },
   "source": [
    "### Initialize variables"
   ]
  },
  {
   "cell_type": "code",
   "execution_count": null,
   "metadata": {
    "colab": {
     "base_uri": "https://localhost:8080/",
     "height": 432
    },
    "id": "R_hjw-qb5oOY",
    "outputId": "2f4c96eb-3064-46db-dc30-66317bb2b7e8"
   },
   "outputs": [],
   "source": [
    "mat = scipy.io.loadmat(\"A.mat\")\n",
    "# Load matrix A that contains all the transition costs A(i,j) = a_ij to get from i to j.\n",
    "A = mat[\"A\"]  \n",
    "N = len(A)  # Dimension of the problem: N = total number of nodes"
   ]
  },
  {
   "cell_type": "markdown",
   "metadata": {
    "id": "akDLeQAL6AU2"
   },
   "source": [
    "### Define start and terminal node"
   ]
  },
  {
   "cell_type": "code",
   "execution_count": null,
   "metadata": {
    "id": "h_ib3eTG6GLi"
   },
   "outputs": [],
   "source": [
    "# Default values:\n",
    "#   start_node = 0\n",
    "#   terminal_node = 99\n",
    "\n",
    "# Minimum path length (minimum total cost): 100\n",
    "# Path: 0 -> 2 -> 40 -> 50 -> 99\n",
    "\n",
    "start_node = 0\n",
    "terminal_node = 99"
   ]
  },
  {
   "cell_type": "markdown",
   "metadata": {
    "id": "C37ElluN6a8L"
   },
   "source": [
    "### Label Correcting Algorithm\n",
    "Solve shortest path problem using the Label Correcting Algorithm"
   ]
  },
  {
   "cell_type": "code",
   "execution_count": null,
   "metadata": {
    "id": "X2StavDX6Roz"
   },
   "outputs": [],
   "source": [
    "t = time.time()\n",
    "# Your implementation of the Label Correcting aglorithm.\n",
    "[opt_cost_1, opt_path_1] = lca(A, start_node, terminal_node)\n",
    "time1 = time.time() - t"
   ]
  },
  {
   "cell_type": "markdown",
   "metadata": {
    "id": "_pWipUqT6gpk"
   },
   "source": [
    "### A* Algorithm\n",
    "Solve shortest path problem using the A* Algorithm"
   ]
  },
  {
   "cell_type": "code",
   "execution_count": null,
   "metadata": {
    "id": "LVTzOIxJ6g73"
   },
   "outputs": [],
   "source": [
    "t = time.time()\n",
    "# Your implementation of the A* algorithm.\n",
    "[opt_cost_2, opt_path_2] = astar(A, start_node, terminal_node)  \n",
    "time2 = time.time() - t"
   ]
  },
  {
   "cell_type": "markdown",
   "metadata": {
    "id": "NAJrBf2wH7il"
   },
   "source": [
    "### Print results"
   ]
  },
  {
   "cell_type": "code",
   "execution_count": null,
   "metadata": {
    "id": "WILkTHMHICQ-"
   },
   "outputs": [],
   "source": [
    "print(\"Results\")\n",
    "print(\"Problem with \", N, \" nodes.\")\n",
    "print(\"Optimal path from node \", start_node, \" to \", terminal_node, \":\")\n",
    "print(\"\\033[1mLabel Correcting Algorithm\\033[0m\")\n",
    "print(\"Execution time: \", time1, \" s.\")\n",
    "print(\"Minimum path length (minimum total cost): \", opt_cost_1)\n",
    "print(\"Path: \", [n + 1 for n in opt_path_1])\n",
    "print(\"\\033[1mA* Algorithm\\033[0m\")\n",
    "print(\n",
    "    \"Execution time: \", time2, \"s  (\", time2 / time1, \" times the time for method 1).\"\n",
    ")\n",
    "print(\"Minimum path length (minimum total cost): \", opt_cost_2)\n",
    "print(\"Path: \", [n + 1 for n in opt_path_2])"
   ]
  }
 ],
 "metadata": {
  "colab": {
   "collapsed_sections": [],
   "provenance": []
  },
  "kernelspec": {
   "display_name": "Python 3 (ipykernel)",
   "language": "python",
   "name": "python3"
  },
  "language_info": {
   "codemirror_mode": {
    "name": "ipython",
    "version": 3
   },
   "file_extension": ".py",
   "mimetype": "text/x-python",
   "name": "python",
   "nbconvert_exporter": "python",
   "pygments_lexer": "ipython3",
   "version": "3.10.12"
  }
 },
 "nbformat": 4,
 "nbformat_minor": 1
}
