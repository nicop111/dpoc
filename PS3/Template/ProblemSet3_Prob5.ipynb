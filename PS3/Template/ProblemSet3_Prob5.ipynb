{
 "cells": [
  {
   "cell_type": "markdown",
   "metadata": {},
   "source": [
    "# Dynamic Programming and Optimal Control\n",
    "## Problem Set 3, Problem 5"
   ]
  },
  {
   "cell_type": "markdown",
   "metadata": {},
   "source": [
    "**Python template that solves Problem 5 of Problem Set 3 by applying applying the Label Correcting method and A* algorithm.** \n",
    "\n",
    "**We use [NumPy](https://numpy.org/) and [SciPy](https://scipy.org/) packages. You can install these packages using `pip install` or `conda install` command depending on your package manager. You can also find the installation guide in the package websites or documentations.**"
   ]
  },
  {
   "cell_type": "code",
   "execution_count": null,
   "metadata": {
    "id": "VuSEa79-5fbu"
   },
   "outputs": [],
   "source": [
    "import scipy.io\n",
    "import numpy as np\n",
    "import time"
   ]
  },
  {
   "cell_type": "markdown",
   "metadata": {
    "id": "CptTfpqy62YC"
   },
   "source": [
    "### Label correcting algorithm function"
   ]
  },
  {
   "cell_type": "code",
   "execution_count": null,
   "metadata": {
    "id": "VI1dXcKb68EZ"
   },
   "outputs": [],
   "source": [
    "def lca(A, start_node, terminal_node):\n",
    "    # Executes Label Correcting algorithm (Book Dynamic Programming and Optimal\n",
    "    # Control, Bertsekes, page 81) using the depth-first method.\n",
    "\n",
    "    # Input:\n",
    "    #   A               [NxN] matrix, where the element A(i,j) = a_ij is the cost\n",
    "    #                   to move from node i to j.\n",
    "    #   start_node      Start node of desired shortest path, scalar from 1 to N.\n",
    "    #   terminal_node   Terminal node of desired shortest path, scalar from 1\n",
    "    #                   to N.\n",
    "\n",
    "    # Output:\n",
    "    #   opt_cost        Cost of the shortest path(s), scalar:\n",
    "    #   opt_path        Row vector containing the shortest path, e.g.\n",
    "    #                   opt_path = [0 32 44 43 78 99].\n",
    "\n",
    "    # --------------------------------\n",
    "    # Your implementation comes here.\n",
    "    # --------------------------------\n",
    "    opt_cost = np.inf\n",
    "    opt_path = [start_node, terminal_node]\n",
    "    return opt_cost, opt_path"
   ]
  },
  {
   "cell_type": "markdown",
   "metadata": {
    "id": "6oNPL7mxv-Cs"
   },
   "source": [
    "### A* algorithm function"
   ]
  },
  {
   "cell_type": "code",
   "execution_count": null,
   "metadata": {
    "id": "yDmkDXRgwDA3"
   },
   "outputs": [],
   "source": [
    "def astar(A, start_node, terminal_node):\n",
    "    # [opt_cost, opt_path] = lca(A,start_node,terminal_node)\n",
    "\n",
    "    # Executes A* algorithm (Book Dynamic Programming and Optimal\n",
    "    # Control, Bertsekes, page 87) using the depth-first method.\n",
    "\n",
    "    # Input:\n",
    "    #   A               [NxN] matrix, where the element A(i,j) = a_ij is the cost\n",
    "    #                   to move from node i to j.\n",
    "    #   start_node       Start node of desired shortest path, scalar from 1 to N.\n",
    "    #   terminal_node    Terminal node of desired shortest path, scalar from 1\n",
    "    #                   to N.\n",
    "\n",
    "    # Output:\n",
    "    #   opt_cost         Cost of the shortest path(s), scalar:\n",
    "    #   opt_path         Row vector containing the shortest path, e.g.\n",
    "    #                   opt_path = [0 33 45 43 79 99].\n",
    "\n",
    "    # --------------------------------\n",
    "    # Your implementation comes here.\n",
    "    # --------------------------------\n",
    "    opt_cost = np.inf\n",
    "    opt_path = [start_node, terminal_node]\n",
    "\n",
    "    return opt_cost, opt_path"
   ]
  },
  {
   "cell_type": "markdown",
   "metadata": {
    "id": "ejc-B_xh6Df7"
   },
   "source": [
    "### Initialize variables"
   ]
  },
  {
   "cell_type": "code",
   "execution_count": null,
   "metadata": {
    "id": "R_hjw-qb5oOY"
   },
   "outputs": [],
   "source": [
    "mat = scipy.io.loadmat(\"A.mat\")\n",
    "# Load matrix A that contains all the transition costs A(i,j) = a_ij to get from i to j.\n",
    "A = mat[\"A\"]  \n",
    "N = len(A)  # Dimension of the problem: N = total number of nodes"
   ]
  },
  {
   "cell_type": "markdown",
   "metadata": {
    "id": "akDLeQAL6AU2"
   },
   "source": [
    "### Define start and terminal node"
   ]
  },
  {
   "cell_type": "code",
   "execution_count": null,
   "metadata": {
    "id": "h_ib3eTG6GLi"
   },
   "outputs": [],
   "source": [
    "# Default values:\n",
    "#   start_node = 0\n",
    "#   terminal_node = 99\n",
    "\n",
    "# Minimum path length (minimum total cost): 100\n",
    "# Path: 0 -> 2 -> 40 -> 50 -> 99\n",
    "\n",
    "start_node = 0\n",
    "terminal_node = 99"
   ]
  },
  {
   "cell_type": "markdown",
   "metadata": {
    "id": "C37ElluN6a8L"
   },
   "source": [
    "### Label Correcting Algorithm\n",
    "Solve shortest path problem using the Label Correcting Algorithm"
   ]
  },
  {
   "cell_type": "code",
   "execution_count": null,
   "metadata": {
    "id": "X2StavDX6Roz"
   },
   "outputs": [],
   "source": [
    "t = time.time()\n",
    "# Your implementation of the Label Correcting aglorithm.\n",
    "[opt_cost_1, opt_path_1] = lca(A, start_node, terminal_node)\n",
    "time1 = time.time() - t"
   ]
  },
  {
   "cell_type": "markdown",
   "metadata": {
    "id": "_pWipUqT6gpk"
   },
   "source": [
    "### A* Algorithm\n",
    "Solve shortest path problem using the A* Algorithm"
   ]
  },
  {
   "cell_type": "code",
   "execution_count": null,
   "metadata": {
    "id": "LVTzOIxJ6g73"
   },
   "outputs": [],
   "source": [
    "t = time.time()\n",
    "# Your implementation of the A* algorithm.\n",
    "[opt_cost_2, opt_path_2] = astar(A, start_node, terminal_node)  \n",
    "time2 = time.time() - t"
   ]
  },
  {
   "cell_type": "markdown",
   "metadata": {
    "id": "NAJrBf2wH7il"
   },
   "source": [
    "### Print results"
   ]
  },
  {
   "cell_type": "code",
   "execution_count": null,
   "metadata": {
    "colab": {
     "base_uri": "https://localhost:8080/"
    },
    "id": "WILkTHMHICQ-",
    "outputId": "aaaa425c-a2dc-4b33-a4aa-db446bbdaa9e"
   },
   "outputs": [],
   "source": [
    "print(\"Results\")\n",
    "print(\"Problem with \", N, \" nodes.\")\n",
    "print(\"Optimal path from node \", start_node, \" to \", terminal_node, \":\")\n",
    "print(\"\\033[1mLabel Correcting Algorithm\\033[0m\")\n",
    "print(\"Execution time: \", time1, \" s.\")\n",
    "print(\"Path: \", opt_path_1)\n",
    "print(\"\\033[1mA* Algorithm\\033[0m\")\n",
    "print(\n",
    "    \"Execution time: \", time2, \"s  (\", time2 / time1, \" times the time for method 1).\"\n",
    ")\n",
    "print(\"Minimum path length (minimum total cost): \", opt_cost_2)\n",
    "print(\"Path: \", opt_path_2)"
   ]
  }
 ],
 "metadata": {
  "colab": {
   "collapsed_sections": [],
   "provenance": []
  },
  "kernelspec": {
   "display_name": "Python 3 (ipykernel)",
   "language": "python",
   "name": "python3"
  },
  "language_info": {
   "codemirror_mode": {
    "name": "ipython",
    "version": 3
   },
   "file_extension": ".py",
   "mimetype": "text/x-python",
   "name": "python",
   "nbconvert_exporter": "python",
   "pygments_lexer": "ipython3",
   "version": "3.10.12"
  }
 },
 "nbformat": 4,
 "nbformat_minor": 1
}
